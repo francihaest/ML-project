{
 "cells": [
  {
   "cell_type": "markdown",
   "id": "1a42ee92",
   "metadata": {},
   "source": [
    "## COLLECTING THE DATA"
   ]
  },
  {
   "cell_type": "code",
   "execution_count": 1,
   "id": "fc277221",
   "metadata": {},
   "outputs": [],
   "source": [
    "import pandas as pd\n",
    "import numpy as np\n",
    "import matplotlib.pyplot as plt\n",
    "import sklearn "
   ]
  },
  {
   "cell_type": "code",
   "execution_count": 11,
   "id": "84dac08e",
   "metadata": {},
   "outputs": [],
   "source": [
    "from sklearn.model_selection import train_test_split\n",
    "from sklearn.pipeline import make_pipeline\n",
    "from sklearn.linear_model import LogisticRegression, SGDClassifier\n",
    "from sklearn.tree import DecisionTreeClassifier\n",
    "from sklearn.metrics import classification_report, ConfusionMatrixDisplay\n",
    "from sklearn.feature_extraction.text import CountVectorizer, TfidfVectorizer\n",
    "from sklearn.model_selection import GridSearchCV\n",
    "from sklearn.dummy import DummyClassifier\n",
    "from sklearn.preprocessing import RobustScaler"
   ]
  },
  {
   "cell_type": "code",
   "execution_count": 3,
   "id": "6b848af1",
   "metadata": {},
   "outputs": [
    {
     "data": {
      "text/html": [
       "<div>\n",
       "<style scoped>\n",
       "    .dataframe tbody tr th:only-of-type {\n",
       "        vertical-align: middle;\n",
       "    }\n",
       "\n",
       "    .dataframe tbody tr th {\n",
       "        vertical-align: top;\n",
       "    }\n",
       "\n",
       "    .dataframe thead th {\n",
       "        text-align: right;\n",
       "    }\n",
       "</style>\n",
       "<table border=\"1\" class=\"dataframe\">\n",
       "  <thead>\n",
       "    <tr style=\"text-align: right;\">\n",
       "      <th></th>\n",
       "      <th>Rating</th>\n",
       "      <th>Review</th>\n",
       "    </tr>\n",
       "  </thead>\n",
       "  <tbody>\n",
       "    <tr>\n",
       "      <th>411</th>\n",
       "      <td>5.0</td>\n",
       "      <td>Great product!</td>\n",
       "    </tr>\n",
       "    <tr>\n",
       "      <th>1523</th>\n",
       "      <td>4.0</td>\n",
       "      <td>I have been using Fiber Choice tabs for several years and feel they help keep bowel movements normal. They are a little pricey at 11cents per tablet, but are much easier to take than mixing powders with water - so convenience is worth something.</td>\n",
       "    </tr>\n",
       "    <tr>\n",
       "      <th>2853</th>\n",
       "      <td>4.0</td>\n",
       "      <td>I've only tried the chardonnay, so my review is for that wine. I find it very good when chilled properly. I take it out of the refrigerator an hour before drinking it &amp; it's perfect. It's not to cold or warm. When drunk too cold, it doesn't have much taste. At the proper temp, it becomes much more complex. It has a clean delicate taste of peach &amp; apricot. It's not a heavy chardonnay. No oak, butter or vanilla undertone. I prefer this crisper, fresher chardonnay. The heavy ones make me gag.</td>\n",
       "    </tr>\n",
       "    <tr>\n",
       "      <th>2383</th>\n",
       "      <td>5.0</td>\n",
       "      <td>I bought Carmex several years ago when I had a big bad break out of cold sores that spread all over my lips. With in 2 to 3 weeks of using Carmex my lips and the cold sores were pretty much gone and the cold sores have pretty much have never come back. I have also gotten my brother to use Carmex to.</td>\n",
       "    </tr>\n",
       "    <tr>\n",
       "      <th>2367</th>\n",
       "      <td>5.0</td>\n",
       "      <td>I have been using Carmex for chapped lips since my lips were always chapped when I was a kid. My Dad gave it to me and said this works great and Dad's know everything. That was 64 years ago and I still use it today.</td>\n",
       "    </tr>\n",
       "    <tr>\n",
       "      <th>1530</th>\n",
       "      <td>4.0</td>\n",
       "      <td>It is fine, but it lacked the weight control feature that I was hoping for. My fault, I guess, but it's fine otherwise.</td>\n",
       "    </tr>\n",
       "    <tr>\n",
       "      <th>1359</th>\n",
       "      <td>5.0</td>\n",
       "      <td>Lucky</td>\n",
       "    </tr>\n",
       "    <tr>\n",
       "      <th>1050</th>\n",
       "      <td>4.0</td>\n",
       "      <td>Nice machine . It's slower than a gas machine but it gets the job done.</td>\n",
       "    </tr>\n",
       "    <tr>\n",
       "      <th>1043</th>\n",
       "      <td>5.0</td>\n",
       "      <td>I purchased an electric model just to avoid another gas engine. This model works good cleaning our patio aggregate steps, walk driveway. It's light weight, easy to store priced accordingly.</td>\n",
       "    </tr>\n",
       "    <tr>\n",
       "      <th>1975</th>\n",
       "      <td>5.0</td>\n",
       "      <td>I buy this every fall time. I get very dry chapped lips in fall and winter this works very well for that. It clears it right up.</td>\n",
       "    </tr>\n",
       "  </tbody>\n",
       "</table>\n",
       "</div>"
      ],
      "text/plain": [
       "      Rating  \\\n",
       "411      5.0   \n",
       "1523     4.0   \n",
       "2853     4.0   \n",
       "2383     5.0   \n",
       "2367     5.0   \n",
       "1530     4.0   \n",
       "1359     5.0   \n",
       "1050     4.0   \n",
       "1043     5.0   \n",
       "1975     5.0   \n",
       "\n",
       "                                                                                                                                                                                                                                                                                                                                                                                                                                                                                                              Review  \n",
       "411                                                                                                                                                                                                                                                                                                                                                                                                                                                                                                   Great product!  \n",
       "1523                                                                                                                                                                                                                                                           I have been using Fiber Choice tabs for several years and feel they help keep bowel movements normal. They are a little pricey at 11cents per tablet, but are much easier to take than mixing powders with water - so convenience is worth something.  \n",
       "2853  I've only tried the chardonnay, so my review is for that wine. I find it very good when chilled properly. I take it out of the refrigerator an hour before drinking it & it's perfect. It's not to cold or warm. When drunk too cold, it doesn't have much taste. At the proper temp, it becomes much more complex. It has a clean delicate taste of peach & apricot. It's not a heavy chardonnay. No oak, butter or vanilla undertone. I prefer this crisper, fresher chardonnay. The heavy ones make me gag.  \n",
       "2383                                                                                                                                                                                                    I bought Carmex several years ago when I had a big bad break out of cold sores that spread all over my lips. With in 2 to 3 weeks of using Carmex my lips and the cold sores were pretty much gone and the cold sores have pretty much have never come back. I have also gotten my brother to use Carmex to.  \n",
       "2367                                                                                                                                                                                                                                                                                         I have been using Carmex for chapped lips since my lips were always chapped when I was a kid. My Dad gave it to me and said this works great and Dad's know everything. That was 64 years ago and I still use it today.  \n",
       "1530                                                                                                                                                                                                                                                                                                                                                                                         It is fine, but it lacked the weight control feature that I was hoping for. My fault, I guess, but it's fine otherwise.  \n",
       "1359                                                                                                                                                                                                                                                                                                                                                                                                                                                                                                           Lucky  \n",
       "1050                                                                                                                                                                                                                                                                                                                                                                                                                                         Nice machine . It's slower than a gas machine but it gets the job done.  \n",
       "1043                                                                                                                                                                                                                                                                                                                   I purchased an electric model just to avoid another gas engine. This model works good cleaning our patio aggregate steps, walk driveway. It's light weight, easy to store priced accordingly.  \n",
       "1975                                                                                                                                                                                                                                                                                                                                                                                I buy this every fall time. I get very dry chapped lips in fall and winter this works very well for that. It clears it right up.  "
      ]
     },
     "execution_count": 3,
     "metadata": {},
     "output_type": "execute_result"
    }
   ],
   "source": [
    "wineDf = pd.read_csv(\"data/wineReviews.csv\", usecols=['Reviews Rating', 'Reviews Text'])\n",
    "pd.set_option('display.max_colwidth', None)\n",
    "wineDf.columns = ['Rating', 'Review']\n",
    "wineDf.sample(10)"
   ]
  },
  {
   "cell_type": "code",
   "execution_count": 4,
   "id": "4ec33fa4",
   "metadata": {},
   "outputs": [
    {
     "data": {
      "text/plain": [
       "(            Rating\n",
       " count  2445.000000\n",
       " mean      4.690798\n",
       " std       0.843344\n",
       " min       1.000000\n",
       " 25%       5.000000\n",
       " 50%       5.000000\n",
       " 75%       5.000000\n",
       " max       5.000000,\n",
       " (2890, 2),\n",
       " Rating    445\n",
       " Review      1\n",
       " dtype: int64)"
      ]
     },
     "execution_count": 4,
     "metadata": {},
     "output_type": "execute_result"
    }
   ],
   "source": [
    "wineDf.describe(), wineDf.shape, wineDf.isnull().sum()\n",
    "#We can see that the wine ratings range from 1 to 5 and that most wine ratings (at least 75%) has a rating of 5"
   ]
  },
  {
   "cell_type": "code",
   "execution_count": 5,
   "id": "27e2185b",
   "metadata": {},
   "outputs": [
    {
     "data": {
      "text/plain": [
       "((2444, 2),\n",
       " Review    0\n",
       " Rating    0\n",
       " dtype: int64)"
      ]
     },
     "execution_count": 5,
     "metadata": {},
     "output_type": "execute_result"
    }
   ],
   "source": [
    "wineDf = wineDf.dropna(subset=['Review'])[['Review','Rating']]\n",
    "wineDf = wineDf.dropna(subset=['Rating'])[['Review','Rating']]\n",
    "wineDf.shape, wineDf.isnull().sum()\n",
    "#Removing the rows with empty values"
   ]
  },
  {
   "cell_type": "code",
   "execution_count": 415,
   "id": "a50b870a",
   "metadata": {},
   "outputs": [
    {
     "name": "stdout",
     "output_type": "stream",
     "text": [
      "<class 'pandas.core.frame.DataFrame'>\n",
      "Int64Index: 2444 entries, 0 to 2889\n",
      "Data columns (total 2 columns):\n",
      " #   Column  Non-Null Count  Dtype  \n",
      "---  ------  --------------  -----  \n",
      " 0   Review  2444 non-null   object \n",
      " 1   Rating  2444 non-null   float64\n",
      "dtypes: float64(1), object(1)\n",
      "memory usage: 57.3+ KB\n"
     ]
    }
   ],
   "source": [
    "wineDf.info()"
   ]
  },
  {
   "cell_type": "code",
   "execution_count": 6,
   "id": "cc9b774f",
   "metadata": {},
   "outputs": [
    {
     "data": {
      "text/plain": [
       "5.0    0.837152\n",
       "4.0    0.090426\n",
       "1.0    0.028232\n",
       "3.0    0.026596\n",
       "2.0    0.017594\n",
       "Name: Rating, dtype: float64"
      ]
     },
     "execution_count": 6,
     "metadata": {},
     "output_type": "execute_result"
    }
   ],
   "source": [
    "#almost 84% of our data has a rating of 5 > It is very important to divide the ratings equally between the train, dev and test data\n",
    "wineDf.Rating.value_counts(normalize=True)"
   ]
  },
  {
   "cell_type": "code",
   "execution_count": 234,
   "id": "aeb79d25",
   "metadata": {},
   "outputs": [
    {
     "data": {
      "text/plain": [
       "(19,\n",
       " <2444x5120 sparse matrix of type '<class 'numpy.int64'>'\n",
       " \twith 58825 stored elements in Compressed Sparse Row format>)"
      ]
     },
     "execution_count": 234,
     "metadata": {},
     "output_type": "execute_result"
    }
   ],
   "source": [
    "vect = CountVectorizer()\n",
    "vect.fit(X)\n",
    "data = vect.transform(X)\n",
    "data.max(), data"
   ]
  },
  {
   "cell_type": "markdown",
   "id": "a3ff428f",
   "metadata": {},
   "source": [
    "## Split Train and Test"
   ]
  },
  {
   "cell_type": "code",
   "execution_count": 313,
   "id": "3f280d65",
   "metadata": {},
   "outputs": [
    {
     "data": {
      "text/plain": [
       "((2199,), (245,), (2199,), (245,))"
      ]
     },
     "execution_count": 313,
     "metadata": {},
     "output_type": "execute_result"
    }
   ],
   "source": [
    "y = wineDf.Rating\n",
    "X = wineDf.Review\n",
    "X_train, X_test, y_train, y_test = train_test_split(X, y, test_size=.10, stratify=y, shuffle=True, random_state=42)\n",
    "X_train.shape, X_test.shape, y_train.shape, y_test.shape"
   ]
  },
  {
   "cell_type": "code",
   "execution_count": 314,
   "id": "df155f95",
   "metadata": {},
   "outputs": [
    {
     "data": {
      "text/plain": [
       "5.0    1841\n",
       "4.0     199\n",
       "1.0      62\n",
       "3.0      58\n",
       "2.0      39\n",
       "Name: Rating, dtype: int64"
      ]
     },
     "execution_count": 314,
     "metadata": {},
     "output_type": "execute_result"
    }
   ],
   "source": [
    "y_train.value_counts()"
   ]
  },
  {
   "cell_type": "markdown",
   "id": "244414e4",
   "metadata": {},
   "source": [
    "## Majority baseline"
   ]
  },
  {
   "cell_type": "code",
   "execution_count": 315,
   "id": "fa94f52e",
   "metadata": {},
   "outputs": [
    {
     "data": {
      "text/plain": [
       "0.8371987266939518"
      ]
     },
     "execution_count": 315,
     "metadata": {},
     "output_type": "execute_result"
    }
   ],
   "source": [
    "#Because there are so many 5 ratings, what would Majority Baseline be?\n",
    "dummyClass = DummyClassifier(strategy=\"most_frequent\")\n",
    "dummyClass.fit(X_train, y_train)\n",
    "baseline = dummyClass.score(X_train, y_train)\n",
    "baseline"
   ]
  },
  {
   "cell_type": "markdown",
   "id": "39e50426",
   "metadata": {},
   "source": [
    "## Training data"
   ]
  },
  {
   "cell_type": "markdown",
   "id": "deaf0a30",
   "metadata": {},
   "source": [
    "### 1. SGDClassifier with CountVectorizer"
   ]
  },
  {
   "cell_type": "code",
   "execution_count": 321,
   "id": "590b9cd2",
   "metadata": {},
   "outputs": [
    {
     "data": {
      "text/plain": [
       "({'alpha': 0.0001,\n",
       "  'average': False,\n",
       "  'class_weight': None,\n",
       "  'early_stopping': False,\n",
       "  'epsilon': 0.1,\n",
       "  'eta0': 0.0,\n",
       "  'fit_intercept': True,\n",
       "  'l1_ratio': 0.15,\n",
       "  'learning_rate': 'optimal',\n",
       "  'loss': 'hinge',\n",
       "  'max_iter': 1000,\n",
       "  'n_iter_no_change': 5,\n",
       "  'n_jobs': None,\n",
       "  'penalty': 'l2',\n",
       "  'power_t': 0.5,\n",
       "  'random_state': 7,\n",
       "  'shuffle': True,\n",
       "  'tol': 0.001,\n",
       "  'validation_fraction': 0.1,\n",
       "  'verbose': 0,\n",
       "  'warm_start': False},\n",
       " {'analyzer': 'word',\n",
       "  'binary': False,\n",
       "  'decode_error': 'strict',\n",
       "  'dtype': numpy.int64,\n",
       "  'encoding': 'utf-8',\n",
       "  'input': 'content',\n",
       "  'lowercase': True,\n",
       "  'max_df': 1.0,\n",
       "  'max_features': None,\n",
       "  'min_df': 1,\n",
       "  'ngram_range': (1, 1),\n",
       "  'preprocessor': None,\n",
       "  'stop_words': None,\n",
       "  'strip_accents': None,\n",
       "  'token_pattern': '(?u)\\\\b\\\\w\\\\w+\\\\b',\n",
       "  'tokenizer': None,\n",
       "  'vocabulary': None})"
      ]
     },
     "execution_count": 321,
     "metadata": {},
     "output_type": "execute_result"
    }
   ],
   "source": [
    "#Countvectorizer in Gridsearch\n",
    "vect1 = CountVectorizer()\n",
    "scaler= RobustScaler(with_centering=False)\n",
    "clf = SGDClassifier(random_state=7)\n",
    "pipe = make_pipeline(vect1, scaler, clf)\n",
    "clf.get_params(), vect1.get_params()"
   ]
  },
  {
   "cell_type": "code",
   "execution_count": 322,
   "id": "fff8502d",
   "metadata": {},
   "outputs": [
    {
     "name": "stdout",
     "output_type": "stream",
     "text": [
      "Fitting 10 folds for each of 36 candidates, totalling 360 fits\n"
     ]
    },
    {
     "data": {
      "text/plain": [
       "Pipeline(steps=[('countvectorizer', CountVectorizer()),\n",
       "                ('robustscaler', RobustScaler(with_centering=False)),\n",
       "                ('sgdclassifier', SGDClassifier(loss='log', random_state=7))])"
      ]
     },
     "execution_count": 322,
     "metadata": {},
     "output_type": "execute_result"
    }
   ],
   "source": [
    "#Gridsearch with hyperparameters \n",
    "#1. countvectorizer binary (does it actually matter how many times these words are used?), \n",
    "#2. countvectorizer min_df (do the words that are only used in 1 review in all the training data help our training model?),\n",
    "#3. penalty: regularization, how well should the model be fitted to the training data \n",
    "#4. loss: which model has the best loss_function for our training data\n",
    "params = [{\n",
    "    'countvectorizer__binary': [True, False],\n",
    "    'countvectorizer__min_df': [1, 2],\n",
    "    'sgdclassifier__penalty': ['l2', 'l1', 'elasticnet'],\n",
    "    'sgdclassifier__loss': ['hinge', 'log', 'perceptron'],\n",
    "    }]\n",
    "gs = GridSearchCV(pipe, params, cv=10, scoring='f1_macro', n_jobs=-1, verbose=1, refit=True)\n",
    "#Fitting the data (cross validation of 10)\n",
    "gs.fit(X_train, y_train)\n",
    "gs.best_estimator_"
   ]
  },
  {
   "cell_type": "code",
   "execution_count": 324,
   "id": "2f02514d",
   "metadata": {},
   "outputs": [
    {
     "data": {
      "text/html": [
       "<div>\n",
       "<style scoped>\n",
       "    .dataframe tbody tr th:only-of-type {\n",
       "        vertical-align: middle;\n",
       "    }\n",
       "\n",
       "    .dataframe tbody tr th {\n",
       "        vertical-align: top;\n",
       "    }\n",
       "\n",
       "    .dataframe thead th {\n",
       "        text-align: right;\n",
       "    }\n",
       "</style>\n",
       "<table border=\"1\" class=\"dataframe\">\n",
       "  <thead>\n",
       "    <tr style=\"text-align: right;\">\n",
       "      <th></th>\n",
       "      <th>param_countvectorizer__binary</th>\n",
       "      <th>param_countvectorizer__min_df</th>\n",
       "      <th>param_sgdclassifier__penalty</th>\n",
       "      <th>param_sgdclassifier__loss</th>\n",
       "      <th>mean_test_score</th>\n",
       "    </tr>\n",
       "  </thead>\n",
       "  <tbody>\n",
       "    <tr>\n",
       "      <th>21</th>\n",
       "      <td>False</td>\n",
       "      <td>1</td>\n",
       "      <td>l2</td>\n",
       "      <td>log</td>\n",
       "      <td>0.374524</td>\n",
       "    </tr>\n",
       "    <tr>\n",
       "      <th>33</th>\n",
       "      <td>False</td>\n",
       "      <td>2</td>\n",
       "      <td>l2</td>\n",
       "      <td>perceptron</td>\n",
       "      <td>0.370866</td>\n",
       "    </tr>\n",
       "    <tr>\n",
       "      <th>16</th>\n",
       "      <td>True</td>\n",
       "      <td>2</td>\n",
       "      <td>l1</td>\n",
       "      <td>perceptron</td>\n",
       "      <td>0.358387</td>\n",
       "    </tr>\n",
       "    <tr>\n",
       "      <th>20</th>\n",
       "      <td>False</td>\n",
       "      <td>1</td>\n",
       "      <td>elasticnet</td>\n",
       "      <td>hinge</td>\n",
       "      <td>0.357454</td>\n",
       "    </tr>\n",
       "    <tr>\n",
       "      <th>7</th>\n",
       "      <td>True</td>\n",
       "      <td>1</td>\n",
       "      <td>l1</td>\n",
       "      <td>perceptron</td>\n",
       "      <td>0.357176</td>\n",
       "    </tr>\n",
       "  </tbody>\n",
       "</table>\n",
       "</div>"
      ],
      "text/plain": [
       "   param_countvectorizer__binary param_countvectorizer__min_df  \\\n",
       "21                         False                             1   \n",
       "33                         False                             2   \n",
       "16                          True                             2   \n",
       "20                         False                             1   \n",
       "7                           True                             1   \n",
       "\n",
       "   param_sgdclassifier__penalty param_sgdclassifier__loss  mean_test_score  \n",
       "21                           l2                       log         0.374524  \n",
       "33                           l2                perceptron         0.370866  \n",
       "16                           l1                perceptron         0.358387  \n",
       "20                   elasticnet                     hinge         0.357454  \n",
       "7                            l1                perceptron         0.357176  "
      ]
     },
     "execution_count": 324,
     "metadata": {},
     "output_type": "execute_result"
    }
   ],
   "source": [
    "#Which hyperparameters create the optimal training model\n",
    "results1 = pd.DataFrame(gs.cv_results_)\n",
    "results1[['param_countvectorizer__binary', 'param_countvectorizer__min_df', 'param_sgdclassifier__penalty', 'param_sgdclassifier__loss', 'mean_test_score']].sort_values('mean_test_score', ascending=False).head()"
   ]
  },
  {
   "cell_type": "code",
   "execution_count": 323,
   "id": "1ec25ab0",
   "metadata": {},
   "outputs": [
    {
     "data": {
      "text/plain": [
       "(0.3745236317466558,\n",
       " {'countvectorizer__binary': False,\n",
       "  'countvectorizer__min_df': 1,\n",
       "  'sgdclassifier__loss': 'log',\n",
       "  'sgdclassifier__penalty': 'l2'})"
      ]
     },
     "execution_count": 323,
     "metadata": {},
     "output_type": "execute_result"
    }
   ],
   "source": [
    "gs.best_score_, gs.best_params_"
   ]
  },
  {
   "cell_type": "code",
   "execution_count": 325,
   "id": "3bfd1be1",
   "metadata": {},
   "outputs": [
    {
     "name": "stdout",
     "output_type": "stream",
     "text": [
      "              precision    recall  f1-score   support\n",
      "\n",
      "         1.0       0.33      0.14      0.20         7\n",
      "         2.0       0.00      0.00      0.00         4\n",
      "         3.0       0.50      0.29      0.36         7\n",
      "         4.0       0.17      0.09      0.12        22\n",
      "         5.0       0.86      0.95      0.90       205\n",
      "\n",
      "    accuracy                           0.81       245\n",
      "   macro avg       0.37      0.29      0.32       245\n",
      "weighted avg       0.76      0.81      0.78       245\n",
      "\n"
     ]
    }
   ],
   "source": [
    "y_test_pred1 = gs.predict(X_test)\n",
    "print(classification_report(y_test, y_test_pred1))\n",
    "#Precision interpretation: of all the times the model guessed 1, 64% was correct\n",
    "#Recall interpretation: of all 14 cases that the rating should be 1, the training model guessed 50% correctly\n",
    "#> Highest precision and recall is expected with rating of 5 because this class has the most data in the training model\n",
    "#precision and recall should be improved in other classes"
   ]
  },
  {
   "cell_type": "code",
   "execution_count": 326,
   "id": "f700c03c",
   "metadata": {},
   "outputs": [
    {
     "data": {
      "image/png": "[encoded data removed]",
      "text/plain": [
       "<Figure size 432x288 with 2 Axes>"
      ]
     },
     "metadata": {
      "needs_background": "light"
     },
     "output_type": "display_data"
    }
   ],
   "source": [
    "ConfusionMatrixDisplay.from_predictions(y_test, y_test_pred1);"
   ]
  },
  {
   "cell_type": "markdown",
   "id": "06ad6406",
   "metadata": {},
   "source": [
    "### 2. SGDClassifier with Tfidfvectorizer"
   ]
  },
  {
   "cell_type": "code",
   "execution_count": 327,
   "id": "57347182",
   "metadata": {},
   "outputs": [
    {
     "name": "stdout",
     "output_type": "stream",
     "text": [
      "Fitting 10 folds for each of 36 candidates, totalling 360 fits\n"
     ]
    },
    {
     "data": {
      "text/plain": [
       "Pipeline(steps=[('tfidfvectorizer', TfidfVectorizer(binary=True)),\n",
       "                ('robustscaler', RobustScaler(with_centering=False)),\n",
       "                ('sgdclassifier',\n",
       "                 SGDClassifier(loss='perceptron', penalty='l1',\n",
       "                               random_state=7))])"
      ]
     },
     "execution_count": 327,
     "metadata": {},
     "output_type": "execute_result"
    }
   ],
   "source": [
    "#Doing the same with Tdidfvectorizer (checking if model is better if words that occur in multiple reviews have less importance)\n",
    "vect2 = TfidfVectorizer()\n",
    "scaler2 = RobustScaler(with_centering=False)\n",
    "clf = SGDClassifier(random_state=7)\n",
    "pipe2 = make_pipeline(vect2, scaler2, clf)\n",
    "params = [{\n",
    "    'tfidfvectorizer__binary': [True, False],\n",
    "    'tfidfvectorizer__min_df': [1, 2],\n",
    "    'sgdclassifier__penalty': ['l2', 'l1', 'elasticnet'],\n",
    "    'sgdclassifier__loss': ['hinge', 'log', 'perceptron']\n",
    "    }]\n",
    "gs2 = GridSearchCV(pipe2, params, cv=10, scoring='f1_macro', n_jobs=-1, verbose=1, refit=True)\n",
    "gs2.fit(X_train, y_train)\n",
    "gs2.best_estimator_"
   ]
  },
  {
   "cell_type": "code",
   "execution_count": 329,
   "id": "656f5b07",
   "metadata": {},
   "outputs": [
    {
     "data": {
      "text/html": [
       "<div>\n",
       "<style scoped>\n",
       "    .dataframe tbody tr th:only-of-type {\n",
       "        vertical-align: middle;\n",
       "    }\n",
       "\n",
       "    .dataframe tbody tr th {\n",
       "        vertical-align: top;\n",
       "    }\n",
       "\n",
       "    .dataframe thead th {\n",
       "        text-align: right;\n",
       "    }\n",
       "</style>\n",
       "<table border=\"1\" class=\"dataframe\">\n",
       "  <thead>\n",
       "    <tr style=\"text-align: right;\">\n",
       "      <th></th>\n",
       "      <th>param_tfidfvectorizer__binary</th>\n",
       "      <th>param_tfidfvectorizer__min_df</th>\n",
       "      <th>param_sgdclassifier__penalty</th>\n",
       "      <th>param_sgdclassifier__loss</th>\n",
       "      <th>mean_test_score</th>\n",
       "    </tr>\n",
       "  </thead>\n",
       "  <tbody>\n",
       "    <tr>\n",
       "      <th>28</th>\n",
       "      <td>True</td>\n",
       "      <td>1</td>\n",
       "      <td>l1</td>\n",
       "      <td>perceptron</td>\n",
       "      <td>0.377122</td>\n",
       "    </tr>\n",
       "    <tr>\n",
       "      <th>30</th>\n",
       "      <td>False</td>\n",
       "      <td>1</td>\n",
       "      <td>l1</td>\n",
       "      <td>perceptron</td>\n",
       "      <td>0.374852</td>\n",
       "    </tr>\n",
       "    <tr>\n",
       "      <th>6</th>\n",
       "      <td>False</td>\n",
       "      <td>1</td>\n",
       "      <td>l1</td>\n",
       "      <td>hinge</td>\n",
       "      <td>0.365332</td>\n",
       "    </tr>\n",
       "    <tr>\n",
       "      <th>27</th>\n",
       "      <td>False</td>\n",
       "      <td>2</td>\n",
       "      <td>l2</td>\n",
       "      <td>perceptron</td>\n",
       "      <td>0.360913</td>\n",
       "    </tr>\n",
       "    <tr>\n",
       "      <th>5</th>\n",
       "      <td>True</td>\n",
       "      <td>2</td>\n",
       "      <td>l1</td>\n",
       "      <td>hinge</td>\n",
       "      <td>0.360383</td>\n",
       "    </tr>\n",
       "  </tbody>\n",
       "</table>\n",
       "</div>"
      ],
      "text/plain": [
       "   param_tfidfvectorizer__binary param_tfidfvectorizer__min_df  \\\n",
       "28                          True                             1   \n",
       "30                         False                             1   \n",
       "6                          False                             1   \n",
       "27                         False                             2   \n",
       "5                           True                             2   \n",
       "\n",
       "   param_sgdclassifier__penalty param_sgdclassifier__loss  mean_test_score  \n",
       "28                           l1                perceptron         0.377122  \n",
       "30                           l1                perceptron         0.374852  \n",
       "6                            l1                     hinge         0.365332  \n",
       "27                           l2                perceptron         0.360913  \n",
       "5                            l1                     hinge         0.360383  "
      ]
     },
     "execution_count": 329,
     "metadata": {},
     "output_type": "execute_result"
    }
   ],
   "source": [
    "#Which hyperparameters create the optimal training model\n",
    "results2 = pd.DataFrame(gs2.cv_results_)\n",
    "results2[['param_tfidfvectorizer__binary', 'param_tfidfvectorizer__min_df', 'param_sgdclassifier__penalty', 'param_sgdclassifier__loss', 'mean_test_score']].sort_values('mean_test_score', ascending=False).head()"
   ]
  },
  {
   "cell_type": "code",
   "execution_count": 330,
   "id": "9985907e",
   "metadata": {},
   "outputs": [
    {
     "data": {
      "text/plain": [
       "(0.37712241171768224,\n",
       " {'sgdclassifier__loss': 'perceptron',\n",
       "  'sgdclassifier__penalty': 'l1',\n",
       "  'tfidfvectorizer__binary': True,\n",
       "  'tfidfvectorizer__min_df': 1})"
      ]
     },
     "execution_count": 330,
     "metadata": {},
     "output_type": "execute_result"
    }
   ],
   "source": [
    "gs2.best_score_, gs2.best_params_\n",
    "#Model shows lower score than with Countvectorizer"
   ]
  },
  {
   "cell_type": "code",
   "execution_count": 152,
   "id": "2ab35c6b",
   "metadata": {},
   "outputs": [
    {
     "name": "stdout",
     "output_type": "stream",
     "text": [
      "              precision    recall  f1-score   support\n",
      "\n",
      "         1.0       0.50      0.29      0.36         7\n",
      "         2.0       0.00      0.00      0.00         4\n",
      "         3.0       0.25      0.14      0.18         7\n",
      "         4.0       0.13      0.09      0.11        22\n",
      "         5.0       0.87      0.94      0.90       205\n",
      "\n",
      "    accuracy                           0.80       245\n",
      "   macro avg       0.35      0.29      0.31       245\n",
      "weighted avg       0.76      0.80      0.78       245\n",
      "\n"
     ]
    }
   ],
   "source": [
    "y_test_pred2 = gs2.predict(X_test)\n",
    "print(classification_report(y_test, y_test_pred2))\n",
    "#Lower precision and recall overall (except with class 2)"
   ]
  },
  {
   "cell_type": "code",
   "execution_count": 148,
   "id": "8f68d88a",
   "metadata": {},
   "outputs": [
    {
     "data": {
      "image/png": "[encoded data removed]",
      "text/plain": [
       "<Figure size 432x288 with 2 Axes>"
      ]
     },
     "metadata": {
      "needs_background": "light"
     },
     "output_type": "display_data"
    }
   ],
   "source": [
    "ConfusionMatrixDisplay.from_predictions(y_test, y_test_pred2);"
   ]
  },
  {
   "cell_type": "markdown",
   "id": "8ac2f626",
   "metadata": {},
   "source": [
    "The countvectorizer has the highest f1 macro score and in most cases the highest precision and recall (except for class 2)\n",
    "Surprisingly, the gridsearch tells us that the logisticclassifier creates the optimal loss function using the Countvectorizer. \n",
    "I want to check if there are other solvers/C-values with the logisticclassifier where the loss function can be optimized."
   ]
  },
  {
   "cell_type": "markdown",
   "id": "4b529ef1",
   "metadata": {},
   "source": [
    "### 3. LogisticClassifier using Countvectorizer"
   ]
  },
  {
   "cell_type": "code",
   "execution_count": 159,
   "id": "0c45c75e",
   "metadata": {},
   "outputs": [],
   "source": [
    "#Create pipeline with new vector, scaler, logisticClassifier\n",
    "vect3 = CountVectorizer(min_df)\n",
    "scaler3 = RobustScaler(with_centering=False)\n",
    "logreg = LogisticRegression(random_state=7)\n",
    "pipe3 = make_pipeline(vect3, scaler3, logreg)"
   ]
  },
  {
   "cell_type": "code",
   "execution_count": 160,
   "id": "e2a17794",
   "metadata": {},
   "outputs": [
    {
     "name": "stdout",
     "output_type": "stream",
     "text": [
      "Fitting 10 folds for each of 60 candidates, totalling 600 fits\n"
     ]
    },
    {
     "name": "stderr",
     "output_type": "stream",
     "text": [
      "C:\\Users\\franc\\anaconda3\\lib\\site-packages\\sklearn\\model_selection\\_validation.py:372: FitFailedWarning: \n",
      "300 fits failed out of a total of 600.\n",
      "The score on these train-test partitions for these parameters will be set to nan.\n",
      "If these failures are not expected, you can try to debug them by setting error_score='raise'.\n",
      "\n",
      "Below are more details about the failures:\n",
      "--------------------------------------------------------------------------------\n",
      "100 fits failed with the following error:\n",
      "Traceback (most recent call last):\n",
      "  File \"C:\\Users\\franc\\anaconda3\\lib\\site-packages\\sklearn\\model_selection\\_validation.py\", line 680, in _fit_and_score\n",
      "    estimator.fit(X_train, y_train, **fit_params)\n",
      "  File \"C:\\Users\\franc\\anaconda3\\lib\\site-packages\\sklearn\\pipeline.py\", line 394, in fit\n",
      "    self._final_estimator.fit(Xt, y, **fit_params_last_step)\n",
      "  File \"C:\\Users\\franc\\anaconda3\\lib\\site-packages\\sklearn\\linear_model\\_logistic.py\", line 1461, in fit\n",
      "    solver = _check_solver(self.solver, self.penalty, self.dual)\n",
      "  File \"C:\\Users\\franc\\anaconda3\\lib\\site-packages\\sklearn\\linear_model\\_logistic.py\", line 447, in _check_solver\n",
      "    raise ValueError(\n",
      "ValueError: Solver lbfgs supports only 'l2' or 'none' penalties, got l1 penalty.\n",
      "\n",
      "--------------------------------------------------------------------------------\n",
      "100 fits failed with the following error:\n",
      "Traceback (most recent call last):\n",
      "  File \"C:\\Users\\franc\\anaconda3\\lib\\site-packages\\sklearn\\model_selection\\_validation.py\", line 680, in _fit_and_score\n",
      "    estimator.fit(X_train, y_train, **fit_params)\n",
      "  File \"C:\\Users\\franc\\anaconda3\\lib\\site-packages\\sklearn\\pipeline.py\", line 394, in fit\n",
      "    self._final_estimator.fit(Xt, y, **fit_params_last_step)\n",
      "  File \"C:\\Users\\franc\\anaconda3\\lib\\site-packages\\sklearn\\linear_model\\_logistic.py\", line 1461, in fit\n",
      "    solver = _check_solver(self.solver, self.penalty, self.dual)\n",
      "  File \"C:\\Users\\franc\\anaconda3\\lib\\site-packages\\sklearn\\linear_model\\_logistic.py\", line 447, in _check_solver\n",
      "    raise ValueError(\n",
      "ValueError: Solver lbfgs supports only 'l2' or 'none' penalties, got elasticnet penalty.\n",
      "\n",
      "--------------------------------------------------------------------------------\n",
      "100 fits failed with the following error:\n",
      "Traceback (most recent call last):\n",
      "  File \"C:\\Users\\franc\\anaconda3\\lib\\site-packages\\sklearn\\model_selection\\_validation.py\", line 680, in _fit_and_score\n",
      "    estimator.fit(X_train, y_train, **fit_params)\n",
      "  File \"C:\\Users\\franc\\anaconda3\\lib\\site-packages\\sklearn\\pipeline.py\", line 394, in fit\n",
      "    self._final_estimator.fit(Xt, y, **fit_params_last_step)\n",
      "  File \"C:\\Users\\franc\\anaconda3\\lib\\site-packages\\sklearn\\linear_model\\_logistic.py\", line 1461, in fit\n",
      "    solver = _check_solver(self.solver, self.penalty, self.dual)\n",
      "  File \"C:\\Users\\franc\\anaconda3\\lib\\site-packages\\sklearn\\linear_model\\_logistic.py\", line 457, in _check_solver\n",
      "    raise ValueError(\n",
      "ValueError: Only 'saga' solver supports elasticnet penalty, got solver=liblinear.\n",
      "\n",
      "  warnings.warn(some_fits_failed_message, FitFailedWarning)\n",
      "C:\\Users\\franc\\anaconda3\\lib\\site-packages\\sklearn\\model_selection\\_search.py:969: UserWarning: One or more of the test scores are non-finite: [       nan 0.32179647 0.34938366 0.31149209        nan        nan\n",
      "        nan 0.34901906 0.34480013 0.35539399        nan        nan\n",
      "        nan 0.34541578 0.34749579 0.33863665        nan        nan\n",
      "        nan 0.34358789 0.34261216 0.3330466         nan        nan\n",
      "        nan 0.35050307 0.35033895 0.32754035        nan        nan\n",
      "        nan 0.32204863 0.35086486 0.3121434         nan        nan\n",
      "        nan 0.34498683 0.35196287 0.36388571        nan        nan\n",
      "        nan 0.34140892 0.34874752 0.32050517        nan        nan\n",
      "        nan 0.33867345 0.35736799 0.31228204        nan        nan\n",
      "        nan 0.34086533 0.36006724 0.31239494        nan        nan]\n",
      "  warnings.warn(\n"
     ]
    },
    {
     "data": {
      "text/plain": [
       "Pipeline(steps=[('countvectorizer', CountVectorizer(min_df=2)),\n",
       "                ('robustscaler', RobustScaler(with_centering=False)),\n",
       "                ('logisticregression',\n",
       "                 LogisticRegression(C=10, random_state=7, solver='liblinear'))])"
      ]
     },
     "execution_count": 160,
     "metadata": {},
     "output_type": "execute_result"
    }
   ],
   "source": [
    "params = [{\n",
    "    'countvectorizer__binary': [True, False],\n",
    "    'countvectorizer__min_df': [1, 2],\n",
    "    'logisticregression__C': [1.0, 10, 100, 1000, 1100],\n",
    "    'logisticregression__solver': ['lbfgs', 'liblinear'],\n",
    "    'logisticregression__penalty': ['l1', 'l2', 'elasticnet']\n",
    "    }]\n",
    "gs3 = GridSearchCV(pipe3, params, cv=10, scoring='f1_macro', n_jobs=-1, verbose=1, refit=True)\n",
    "#Fitting the data (cross validation of 10)\n",
    "gs3.fit(X_train, y_train)\n",
    "gs3.best_estimator_"
   ]
  },
  {
   "cell_type": "code",
   "execution_count": 161,
   "id": "6c9b390c",
   "metadata": {},
   "outputs": [],
   "source": [
    "#some solvers are incompatable with different penalties, which is why this gives some warnings"
   ]
  },
  {
   "cell_type": "code",
   "execution_count": 163,
   "id": "f84e4a32",
   "metadata": {},
   "outputs": [
    {
     "data": {
      "text/plain": [
       "(0.3638857121346935,\n",
       " {'countvectorizer__min_df': 2,\n",
       "  'logisticregression__C': 10,\n",
       "  'logisticregression__penalty': 'l2',\n",
       "  'logisticregression__solver': 'liblinear'})"
      ]
     },
     "execution_count": 163,
     "metadata": {},
     "output_type": "execute_result"
    }
   ],
   "source": [
    "gs3.best_score_, gs3.best_params_"
   ]
  },
  {
   "cell_type": "code",
   "execution_count": 166,
   "id": "a4599107",
   "metadata": {},
   "outputs": [
    {
     "data": {
      "text/html": [
       "<div>\n",
       "<style scoped>\n",
       "    .dataframe tbody tr th:only-of-type {\n",
       "        vertical-align: middle;\n",
       "    }\n",
       "\n",
       "    .dataframe tbody tr th {\n",
       "        vertical-align: top;\n",
       "    }\n",
       "\n",
       "    .dataframe thead th {\n",
       "        text-align: right;\n",
       "    }\n",
       "</style>\n",
       "<table border=\"1\" class=\"dataframe\">\n",
       "  <thead>\n",
       "    <tr style=\"text-align: right;\">\n",
       "      <th></th>\n",
       "      <th>param_countvectorizer__min_df</th>\n",
       "      <th>param_logisticregression__C</th>\n",
       "      <th>param_logisticregression__penalty</th>\n",
       "      <th>param_logisticregression__solver</th>\n",
       "      <th>mean_test_score</th>\n",
       "    </tr>\n",
       "  </thead>\n",
       "  <tbody>\n",
       "    <tr>\n",
       "      <th>39</th>\n",
       "      <td>2</td>\n",
       "      <td>10</td>\n",
       "      <td>l2</td>\n",
       "      <td>liblinear</td>\n",
       "      <td>0.363886</td>\n",
       "    </tr>\n",
       "    <tr>\n",
       "      <th>56</th>\n",
       "      <td>2</td>\n",
       "      <td>1100</td>\n",
       "      <td>l2</td>\n",
       "      <td>lbfgs</td>\n",
       "      <td>0.360067</td>\n",
       "    </tr>\n",
       "    <tr>\n",
       "      <th>50</th>\n",
       "      <td>2</td>\n",
       "      <td>1000</td>\n",
       "      <td>l2</td>\n",
       "      <td>lbfgs</td>\n",
       "      <td>0.357368</td>\n",
       "    </tr>\n",
       "    <tr>\n",
       "      <th>9</th>\n",
       "      <td>1</td>\n",
       "      <td>10</td>\n",
       "      <td>l2</td>\n",
       "      <td>liblinear</td>\n",
       "      <td>0.355394</td>\n",
       "    </tr>\n",
       "    <tr>\n",
       "      <th>38</th>\n",
       "      <td>2</td>\n",
       "      <td>10</td>\n",
       "      <td>l2</td>\n",
       "      <td>lbfgs</td>\n",
       "      <td>0.351963</td>\n",
       "    </tr>\n",
       "  </tbody>\n",
       "</table>\n",
       "</div>"
      ],
      "text/plain": [
       "   param_countvectorizer__min_df param_logisticregression__C  \\\n",
       "39                             2                          10   \n",
       "56                             2                        1100   \n",
       "50                             2                        1000   \n",
       "9                              1                          10   \n",
       "38                             2                          10   \n",
       "\n",
       "   param_logisticregression__penalty param_logisticregression__solver  \\\n",
       "39                                l2                        liblinear   \n",
       "56                                l2                            lbfgs   \n",
       "50                                l2                            lbfgs   \n",
       "9                                 l2                        liblinear   \n",
       "38                                l2                            lbfgs   \n",
       "\n",
       "    mean_test_score  \n",
       "39         0.363886  \n",
       "56         0.360067  \n",
       "50         0.357368  \n",
       "9          0.355394  \n",
       "38         0.351963  "
      ]
     },
     "execution_count": 166,
     "metadata": {},
     "output_type": "execute_result"
    }
   ],
   "source": [
    "results3 = pd.DataFrame(gs3.cv_results_)\n",
    "results3[['param_countvectorizer__min_df','param_logisticregression__C', 'param_logisticregression__penalty', 'param_logisticregression__solver', 'mean_test_score']].sort_values('mean_test_score', ascending=False).head()"
   ]
  },
  {
   "cell_type": "code",
   "execution_count": 167,
   "id": "e98604b4",
   "metadata": {},
   "outputs": [
    {
     "name": "stdout",
     "output_type": "stream",
     "text": [
      "LogisticClassifier: \n",
      "              precision    recall  f1-score   support\n",
      "\n",
      "         1.0       1.00      0.14      0.25         7\n",
      "         2.0       0.00      0.00      0.00         4\n",
      "         3.0       0.67      0.29      0.40         7\n",
      "         4.0       0.08      0.05      0.06        22\n",
      "         5.0       0.86      0.96      0.91       205\n",
      "\n",
      "    accuracy                           0.82       245\n",
      "   macro avg       0.52      0.29      0.32       245\n",
      "weighted avg       0.78      0.82      0.78       245\n",
      "\n"
     ]
    }
   ],
   "source": [
    "y_pred3 = gs3.predict(X_test)\n",
    "print(f'LogisticClassifier: \\n{classification_report(y_test, y_pred3)}')\n",
    "# print(f'GDSClassifier: \\n{classification_report(y_test, y_test_pred)}')\n",
    "#However on looking at testData, GDSClassifier performs better"
   ]
  },
  {
   "cell_type": "code",
   "execution_count": 181,
   "id": "1adad199",
   "metadata": {},
   "outputs": [
    {
     "data": {
      "image/png": "[encoded data removed]",
      "text/plain": [
       "<Figure size 432x288 with 2 Axes>"
      ]
     },
     "metadata": {
      "needs_background": "light"
     },
     "output_type": "display_data"
    }
   ],
   "source": [
    "ConfusionMatrixDisplay.from_predictions(y_test, y_pred3);"
   ]
  },
  {
   "cell_type": "code",
   "execution_count": 437,
   "id": "ab174c45",
   "metadata": {},
   "outputs": [
    {
     "data": {
      "text/html": [
       "<div>\n",
       "<style scoped>\n",
       "    .dataframe tbody tr th:only-of-type {\n",
       "        vertical-align: middle;\n",
       "    }\n",
       "\n",
       "    .dataframe tbody tr th {\n",
       "        vertical-align: top;\n",
       "    }\n",
       "\n",
       "    .dataframe thead th {\n",
       "        text-align: right;\n",
       "    }\n",
       "</style>\n",
       "<table border=\"1\" class=\"dataframe\">\n",
       "  <thead>\n",
       "    <tr style=\"text-align: right;\">\n",
       "      <th></th>\n",
       "      <th>true</th>\n",
       "      <th>pred</th>\n",
       "      <th>review</th>\n",
       "    </tr>\n",
       "  </thead>\n",
       "  <tbody>\n",
       "    <tr>\n",
       "      <th>512</th>\n",
       "      <td>2.0</td>\n",
       "      <td>3.0</td>\n",
       "      <td>this product as well as many others would be more appealing to me and others if the HFCS was replaced with cane sugar. You have a good product and there are ways to make it better. An increase in price would not deter me in the least. Look at the growth of the organic industry. Need I say more</td>\n",
       "    </tr>\n",
       "    <tr>\n",
       "      <th>1417</th>\n",
       "      <td>2.0</td>\n",
       "      <td>1.0</td>\n",
       "      <td>Not as good as pilsbury. The cressants did not come off easily. They stuck together</td>\n",
       "    </tr>\n",
       "  </tbody>\n",
       "</table>\n",
       "</div>"
      ],
      "text/plain": [
       "      true  pred  \\\n",
       "512    2.0   3.0   \n",
       "1417   2.0   1.0   \n",
       "\n",
       "                                                                                                                                                                                                                                                                                                      review  \n",
       "512   this product as well as many others would be more appealing to me and others if the HFCS was replaced with cane sugar. You have a good product and there are ways to make it better. An increase in price would not deter me in the least. Look at the growth of the organic industry. Need I say more  \n",
       "1417                                                                                                                                                                                                                     Not as good as pilsbury. The cressants did not come off easily. They stuck together  "
      ]
     },
     "execution_count": 437,
     "metadata": {},
     "output_type": "execute_result"
    }
   ],
   "source": [
    "d = {'true': y_test, 'pred': y_test_pred, 'review': X_test}\n",
    "output = pd.DataFrame(data=d)\n",
    "output[(output['true'] == 2.0) & (output['pred'] != 5.0)]"
   ]
  },
  {
   "cell_type": "code",
   "execution_count": 438,
   "id": "4e0bb909",
   "metadata": {},
   "outputs": [],
   "source": [
    "coefs = gs.best_estimator_.named_steps.logisticregression.coef_"
   ]
  },
  {
   "cell_type": "markdown",
   "id": "27848fc1",
   "metadata": {},
   "source": [
    "# Logistic regression with Tfidf Vectorizer"
   ]
  },
  {
   "cell_type": "code",
   "execution_count": 190,
   "id": "0b9d87cf",
   "metadata": {},
   "outputs": [],
   "source": [
    "#Create pipeline with new vector, scaler, logisticClassifier\n",
    "vect4 = TfidfVectorizer(min_df=2)\n",
    "scaler4 = RobustScaler(with_centering=False)\n",
    "logreg2 = LogisticRegression(random_state=7)\n",
    "pipe4 = make_pipeline(vect4, scaler4, logreg2)"
   ]
  },
  {
   "cell_type": "code",
   "execution_count": 192,
   "id": "48a5b390",
   "metadata": {},
   "outputs": [
    {
     "name": "stdout",
     "output_type": "stream",
     "text": [
      "Fitting 10 folds for each of 96 candidates, totalling 960 fits\n"
     ]
    },
    {
     "name": "stderr",
     "output_type": "stream",
     "text": [
      "C:\\Users\\franc\\anaconda3\\lib\\site-packages\\sklearn\\model_selection\\_validation.py:372: FitFailedWarning: \n",
      "480 fits failed out of a total of 960.\n",
      "The score on these train-test partitions for these parameters will be set to nan.\n",
      "If these failures are not expected, you can try to debug them by setting error_score='raise'.\n",
      "\n",
      "Below are more details about the failures:\n",
      "--------------------------------------------------------------------------------\n",
      "160 fits failed with the following error:\n",
      "Traceback (most recent call last):\n",
      "  File \"C:\\Users\\franc\\anaconda3\\lib\\site-packages\\sklearn\\model_selection\\_validation.py\", line 680, in _fit_and_score\n",
      "    estimator.fit(X_train, y_train, **fit_params)\n",
      "  File \"C:\\Users\\franc\\anaconda3\\lib\\site-packages\\sklearn\\pipeline.py\", line 394, in fit\n",
      "    self._final_estimator.fit(Xt, y, **fit_params_last_step)\n",
      "  File \"C:\\Users\\franc\\anaconda3\\lib\\site-packages\\sklearn\\linear_model\\_logistic.py\", line 1461, in fit\n",
      "    solver = _check_solver(self.solver, self.penalty, self.dual)\n",
      "  File \"C:\\Users\\franc\\anaconda3\\lib\\site-packages\\sklearn\\linear_model\\_logistic.py\", line 447, in _check_solver\n",
      "    raise ValueError(\n",
      "ValueError: Solver lbfgs supports only 'l2' or 'none' penalties, got l1 penalty.\n",
      "\n",
      "--------------------------------------------------------------------------------\n",
      "160 fits failed with the following error:\n",
      "Traceback (most recent call last):\n",
      "  File \"C:\\Users\\franc\\anaconda3\\lib\\site-packages\\sklearn\\model_selection\\_validation.py\", line 680, in _fit_and_score\n",
      "    estimator.fit(X_train, y_train, **fit_params)\n",
      "  File \"C:\\Users\\franc\\anaconda3\\lib\\site-packages\\sklearn\\pipeline.py\", line 394, in fit\n",
      "    self._final_estimator.fit(Xt, y, **fit_params_last_step)\n",
      "  File \"C:\\Users\\franc\\anaconda3\\lib\\site-packages\\sklearn\\linear_model\\_logistic.py\", line 1461, in fit\n",
      "    solver = _check_solver(self.solver, self.penalty, self.dual)\n",
      "  File \"C:\\Users\\franc\\anaconda3\\lib\\site-packages\\sklearn\\linear_model\\_logistic.py\", line 447, in _check_solver\n",
      "    raise ValueError(\n",
      "ValueError: Solver lbfgs supports only 'l2' or 'none' penalties, got elasticnet penalty.\n",
      "\n",
      "--------------------------------------------------------------------------------\n",
      "160 fits failed with the following error:\n",
      "Traceback (most recent call last):\n",
      "  File \"C:\\Users\\franc\\anaconda3\\lib\\site-packages\\sklearn\\model_selection\\_validation.py\", line 680, in _fit_and_score\n",
      "    estimator.fit(X_train, y_train, **fit_params)\n",
      "  File \"C:\\Users\\franc\\anaconda3\\lib\\site-packages\\sklearn\\pipeline.py\", line 394, in fit\n",
      "    self._final_estimator.fit(Xt, y, **fit_params_last_step)\n",
      "  File \"C:\\Users\\franc\\anaconda3\\lib\\site-packages\\sklearn\\linear_model\\_logistic.py\", line 1461, in fit\n",
      "    solver = _check_solver(self.solver, self.penalty, self.dual)\n",
      "  File \"C:\\Users\\franc\\anaconda3\\lib\\site-packages\\sklearn\\linear_model\\_logistic.py\", line 457, in _check_solver\n",
      "    raise ValueError(\n",
      "ValueError: Only 'saga' solver supports elasticnet penalty, got solver=liblinear.\n",
      "\n",
      "  warnings.warn(some_fits_failed_message, FitFailedWarning)\n",
      "C:\\Users\\franc\\anaconda3\\lib\\site-packages\\sklearn\\model_selection\\_search.py:969: UserWarning: One or more of the test scores are non-finite: [       nan        nan        nan        nan 0.3528454  0.34224822\n",
      " 0.34731008 0.34599993 0.32297678 0.32690229 0.3116891  0.32780093\n",
      " 0.29618027 0.32120133 0.31179703 0.30885511        nan        nan\n",
      "        nan        nan        nan        nan        nan        nan\n",
      "        nan        nan        nan        nan 0.3408706  0.34397512\n",
      " 0.35561834 0.34246691 0.34069352 0.33975317 0.3345943  0.37016934\n",
      " 0.32287946 0.33941099 0.33498156 0.33061753        nan        nan\n",
      "        nan        nan        nan        nan        nan        nan\n",
      "        nan        nan        nan        nan 0.32168079 0.33477765\n",
      " 0.36581757 0.356414   0.33739405 0.35443151 0.35774136 0.36127667\n",
      " 0.33875909 0.33773556 0.32359327 0.36062672        nan        nan\n",
      "        nan        nan        nan        nan        nan        nan\n",
      "        nan        nan        nan        nan 0.32298894 0.32899716\n",
      " 0.37195062 0.36658544 0.34031702 0.34834121 0.36011447 0.34247936\n",
      " 0.33841209 0.33753949 0.32459246 0.36028809        nan        nan\n",
      "        nan        nan        nan        nan        nan        nan]\n",
      "  warnings.warn(\n"
     ]
    },
    {
     "data": {
      "text/plain": [
       "Pipeline(steps=[('tfidfvectorizer', TfidfVectorizer()),\n",
       "                ('robustscaler', RobustScaler(with_centering=False)),\n",
       "                ('logisticregression',\n",
       "                 LogisticRegression(C=1100, penalty='l1', random_state=7,\n",
       "                                    solver='liblinear'))])"
      ]
     },
     "execution_count": 192,
     "metadata": {},
     "output_type": "execute_result"
    }
   ],
   "source": [
    "params = [{\n",
    "#     'tfidfvectorizer__binary': [True, False],\n",
    "    'tfidfvectorizer__min_df': [1, 2],\n",
    "    'logisticregression__C': [10, 100, 1000, 1100],\n",
    "    'logisticregression__solver': ['lbfgs', 'liblinear'],\n",
    "    'logisticregression__penalty': ['l1', 'l2', 'elasticnet']\n",
    "    }]\n",
    "gs4 = GridSearchCV(pipe4, params, cv=10, scoring='f1_macro', n_jobs=-1, verbose=1, refit=True)\n",
    "#Fitting the data (cross validation of 10)\n",
    "gs4.fit(X_train, y_train)\n",
    "gs4.best_estimator_"
   ]
  },
  {
   "cell_type": "code",
   "execution_count": 193,
   "id": "449ef178",
   "metadata": {},
   "outputs": [
    {
     "data": {
      "text/plain": [
       "(0.3719506203339823,\n",
       " {'logisticregression__C': 1100,\n",
       "  'logisticregression__penalty': 'l1',\n",
       "  'logisticregression__solver': 'liblinear',\n",
       "  'tfidfvectorizer__binary': False,\n",
       "  'tfidfvectorizer__min_df': 1})"
      ]
     },
     "execution_count": 193,
     "metadata": {},
     "output_type": "execute_result"
    }
   ],
   "source": [
    "gs4.best_score_, gs4.best_params_"
   ]
  },
  {
   "cell_type": "code",
   "execution_count": 195,
   "id": "6868d570",
   "metadata": {},
   "outputs": [
    {
     "data": {
      "text/html": [
       "<div>\n",
       "<style scoped>\n",
       "    .dataframe tbody tr th:only-of-type {\n",
       "        vertical-align: middle;\n",
       "    }\n",
       "\n",
       "    .dataframe tbody tr th {\n",
       "        vertical-align: top;\n",
       "    }\n",
       "\n",
       "    .dataframe thead th {\n",
       "        text-align: right;\n",
       "    }\n",
       "</style>\n",
       "<table border=\"1\" class=\"dataframe\">\n",
       "  <thead>\n",
       "    <tr style=\"text-align: right;\">\n",
       "      <th></th>\n",
       "      <th>param_tfidfvectorizer__min_df</th>\n",
       "      <th>param_logisticregression__C</th>\n",
       "      <th>param_logisticregression__penalty</th>\n",
       "      <th>param_logisticregression__solver</th>\n",
       "      <th>mean_test_score</th>\n",
       "    </tr>\n",
       "  </thead>\n",
       "  <tbody>\n",
       "    <tr>\n",
       "      <th>78</th>\n",
       "      <td>1</td>\n",
       "      <td>1100</td>\n",
       "      <td>l1</td>\n",
       "      <td>liblinear</td>\n",
       "      <td>0.371951</td>\n",
       "    </tr>\n",
       "    <tr>\n",
       "      <th>35</th>\n",
       "      <td>2</td>\n",
       "      <td>100</td>\n",
       "      <td>l2</td>\n",
       "      <td>lbfgs</td>\n",
       "      <td>0.370169</td>\n",
       "    </tr>\n",
       "    <tr>\n",
       "      <th>79</th>\n",
       "      <td>2</td>\n",
       "      <td>1100</td>\n",
       "      <td>l1</td>\n",
       "      <td>liblinear</td>\n",
       "      <td>0.366585</td>\n",
       "    </tr>\n",
       "    <tr>\n",
       "      <th>54</th>\n",
       "      <td>1</td>\n",
       "      <td>1000</td>\n",
       "      <td>l1</td>\n",
       "      <td>liblinear</td>\n",
       "      <td>0.365818</td>\n",
       "    </tr>\n",
       "    <tr>\n",
       "      <th>59</th>\n",
       "      <td>2</td>\n",
       "      <td>1000</td>\n",
       "      <td>l2</td>\n",
       "      <td>lbfgs</td>\n",
       "      <td>0.361277</td>\n",
       "    </tr>\n",
       "  </tbody>\n",
       "</table>\n",
       "</div>"
      ],
      "text/plain": [
       "   param_tfidfvectorizer__min_df param_logisticregression__C  \\\n",
       "78                             1                        1100   \n",
       "35                             2                         100   \n",
       "79                             2                        1100   \n",
       "54                             1                        1000   \n",
       "59                             2                        1000   \n",
       "\n",
       "   param_logisticregression__penalty param_logisticregression__solver  \\\n",
       "78                                l1                        liblinear   \n",
       "35                                l2                            lbfgs   \n",
       "79                                l1                        liblinear   \n",
       "54                                l1                        liblinear   \n",
       "59                                l2                            lbfgs   \n",
       "\n",
       "    mean_test_score  \n",
       "78         0.371951  \n",
       "35         0.370169  \n",
       "79         0.366585  \n",
       "54         0.365818  \n",
       "59         0.361277  "
      ]
     },
     "execution_count": 195,
     "metadata": {},
     "output_type": "execute_result"
    }
   ],
   "source": [
    "results4 = pd.DataFrame(gs4.cv_results_)\n",
    "#'param_tfidfvectorizer__binary',\n",
    "results4[['param_tfidfvectorizer__min_df','param_logisticregression__C', 'param_logisticregression__penalty', 'param_logisticregression__solver', 'mean_test_score']].sort_values('mean_test_score', ascending=False).head()"
   ]
  },
  {
   "cell_type": "code",
   "execution_count": 196,
   "id": "823226a2",
   "metadata": {},
   "outputs": [
    {
     "name": "stdout",
     "output_type": "stream",
     "text": [
      "LogisticClassifier: \n",
      "              precision    recall  f1-score   support\n",
      "\n",
      "         1.0       0.20      0.14      0.17         7\n",
      "         2.0       0.00      0.00      0.00         4\n",
      "         3.0       1.00      0.29      0.44         7\n",
      "         4.0       0.17      0.14      0.15        22\n",
      "         5.0       0.88      0.94      0.91       205\n",
      "\n",
      "    accuracy                           0.81       245\n",
      "   macro avg       0.45      0.30      0.33       245\n",
      "weighted avg       0.78      0.81      0.79       245\n",
      "\n"
     ]
    }
   ],
   "source": [
    "y_pred4 = gs4.predict(X_test)\n",
    "print(f'LogisticClassifier with Tfidf classifier: \\n{classification_report(y_test, y_pred4)}')"
   ]
  },
  {
   "cell_type": "code",
   "execution_count": 197,
   "id": "58ded85e",
   "metadata": {},
   "outputs": [
    {
     "data": {
      "image/png": "[encoded data removed]",
      "text/plain": [
       "<Figure size 432x288 with 2 Axes>"
      ]
     },
     "metadata": {
      "needs_background": "light"
     },
     "output_type": "display_data"
    }
   ],
   "source": [
    "ConfusionMatrixDisplay.from_predictions(y_test, y_pred4);"
   ]
  },
  {
   "cell_type": "markdown",
   "id": "d1b3a2ce",
   "metadata": {},
   "source": [
    "# KNN imputer"
   ]
  },
  {
   "cell_type": "code",
   "execution_count": 207,
   "id": "c653ddbf",
   "metadata": {},
   "outputs": [
    {
     "name": "stdout",
     "output_type": "stream",
     "text": [
      "Fitting 10 folds for each of 8 candidates, totalling 80 fits\n"
     ]
    },
    {
     "data": {
      "text/plain": [
       "Pipeline(steps=[('tfidfvectorizer', TfidfVectorizer()),\n",
       "                ('maxabsscaler', MaxAbsScaler()),\n",
       "                ('kneighborsclassifier', KNeighborsClassifier(n_neighbors=2))])"
      ]
     },
     "execution_count": 207,
     "metadata": {},
     "output_type": "execute_result"
    }
   ],
   "source": [
    "from sklearn.neighbors import KNeighborsClassifier\n",
    "knn = KNeighborsClassifier()\n",
    "vectKnn = TfidfVectorizer()\n",
    "knn.get_params()\n",
    "param_grid = [{\n",
    "    'kneighborsclassifier__n_neighbors': [1, 2, 3, 4, 5, 6, 7, 8]\n",
    "    }]\n",
    "\n",
    "pipeknn = make_pipeline(vectKnn, scaler, knn)\n",
    "gsknn = GridSearchCV(pipeknn, param_grid, cv=10, scoring='f1_macro', n_jobs=-1, verbose=1)\n",
    "gsknn.fit(X_train, y_train)\n",
    "gsknn.best_estimator_"
   ]
  },
  {
   "cell_type": "code",
   "execution_count": 208,
   "id": "a248ba2f",
   "metadata": {},
   "outputs": [
    {
     "data": {
      "text/plain": [
       "(0.27167802911575767, {'kneighborsclassifier__n_neighbors': 2})"
      ]
     },
     "execution_count": 208,
     "metadata": {},
     "output_type": "execute_result"
    }
   ],
   "source": [
    "gsknn.best_score_, gsknn.best_params_"
   ]
  },
  {
   "cell_type": "code",
   "execution_count": 209,
   "id": "21d54f34",
   "metadata": {},
   "outputs": [
    {
     "data": {
      "text/html": [
       "<div>\n",
       "<style scoped>\n",
       "    .dataframe tbody tr th:only-of-type {\n",
       "        vertical-align: middle;\n",
       "    }\n",
       "\n",
       "    .dataframe tbody tr th {\n",
       "        vertical-align: top;\n",
       "    }\n",
       "\n",
       "    .dataframe thead th {\n",
       "        text-align: right;\n",
       "    }\n",
       "</style>\n",
       "<table border=\"1\" class=\"dataframe\">\n",
       "  <thead>\n",
       "    <tr style=\"text-align: right;\">\n",
       "      <th></th>\n",
       "      <th>mean_fit_time</th>\n",
       "      <th>std_fit_time</th>\n",
       "      <th>mean_score_time</th>\n",
       "      <th>std_score_time</th>\n",
       "      <th>param_kneighborsclassifier__n_neighbors</th>\n",
       "      <th>params</th>\n",
       "      <th>split0_test_score</th>\n",
       "      <th>split1_test_score</th>\n",
       "      <th>split2_test_score</th>\n",
       "      <th>split3_test_score</th>\n",
       "      <th>split4_test_score</th>\n",
       "      <th>split5_test_score</th>\n",
       "      <th>split6_test_score</th>\n",
       "      <th>split7_test_score</th>\n",
       "      <th>split8_test_score</th>\n",
       "      <th>split9_test_score</th>\n",
       "      <th>mean_test_score</th>\n",
       "      <th>std_test_score</th>\n",
       "      <th>rank_test_score</th>\n",
       "    </tr>\n",
       "  </thead>\n",
       "  <tbody>\n",
       "    <tr>\n",
       "      <th>1</th>\n",
       "      <td>0.225986</td>\n",
       "      <td>0.034717</td>\n",
       "      <td>0.087953</td>\n",
       "      <td>0.009578</td>\n",
       "      <td>2</td>\n",
       "      <td>{'kneighborsclassifier__n_neighbors': 2}</td>\n",
       "      <td>0.175211</td>\n",
       "      <td>0.341057</td>\n",
       "      <td>0.212654</td>\n",
       "      <td>0.176327</td>\n",
       "      <td>0.408491</td>\n",
       "      <td>0.388302</td>\n",
       "      <td>0.247688</td>\n",
       "      <td>0.220726</td>\n",
       "      <td>0.309879</td>\n",
       "      <td>0.236446</td>\n",
       "      <td>0.271678</td>\n",
       "      <td>0.080552</td>\n",
       "      <td>1</td>\n",
       "    </tr>\n",
       "    <tr>\n",
       "      <th>0</th>\n",
       "      <td>0.207150</td>\n",
       "      <td>0.024079</td>\n",
       "      <td>0.091729</td>\n",
       "      <td>0.011846</td>\n",
       "      <td>1</td>\n",
       "      <td>{'kneighborsclassifier__n_neighbors': 1}</td>\n",
       "      <td>0.186996</td>\n",
       "      <td>0.320155</td>\n",
       "      <td>0.204559</td>\n",
       "      <td>0.203318</td>\n",
       "      <td>0.362981</td>\n",
       "      <td>0.365306</td>\n",
       "      <td>0.249890</td>\n",
       "      <td>0.234973</td>\n",
       "      <td>0.320958</td>\n",
       "      <td>0.255703</td>\n",
       "      <td>0.270484</td>\n",
       "      <td>0.063477</td>\n",
       "      <td>2</td>\n",
       "    </tr>\n",
       "    <tr>\n",
       "      <th>2</th>\n",
       "      <td>0.208765</td>\n",
       "      <td>0.014305</td>\n",
       "      <td>0.090780</td>\n",
       "      <td>0.010169</td>\n",
       "      <td>3</td>\n",
       "      <td>{'kneighborsclassifier__n_neighbors': 3}</td>\n",
       "      <td>0.193843</td>\n",
       "      <td>0.348191</td>\n",
       "      <td>0.224597</td>\n",
       "      <td>0.190931</td>\n",
       "      <td>0.259899</td>\n",
       "      <td>0.307551</td>\n",
       "      <td>0.269822</td>\n",
       "      <td>0.274560</td>\n",
       "      <td>0.295544</td>\n",
       "      <td>0.197306</td>\n",
       "      <td>0.256224</td>\n",
       "      <td>0.050793</td>\n",
       "      <td>3</td>\n",
       "    </tr>\n",
       "    <tr>\n",
       "      <th>3</th>\n",
       "      <td>0.213645</td>\n",
       "      <td>0.021926</td>\n",
       "      <td>0.104768</td>\n",
       "      <td>0.014971</td>\n",
       "      <td>4</td>\n",
       "      <td>{'kneighborsclassifier__n_neighbors': 4}</td>\n",
       "      <td>0.209635</td>\n",
       "      <td>0.209164</td>\n",
       "      <td>0.221189</td>\n",
       "      <td>0.236089</td>\n",
       "      <td>0.180549</td>\n",
       "      <td>0.288825</td>\n",
       "      <td>0.232687</td>\n",
       "      <td>0.241531</td>\n",
       "      <td>0.239689</td>\n",
       "      <td>0.197872</td>\n",
       "      <td>0.225723</td>\n",
       "      <td>0.028200</td>\n",
       "      <td>4</td>\n",
       "    </tr>\n",
       "    <tr>\n",
       "      <th>7</th>\n",
       "      <td>0.212022</td>\n",
       "      <td>0.028888</td>\n",
       "      <td>0.087214</td>\n",
       "      <td>0.016590</td>\n",
       "      <td>8</td>\n",
       "      <td>{'kneighborsclassifier__n_neighbors': 8}</td>\n",
       "      <td>0.181095</td>\n",
       "      <td>0.180000</td>\n",
       "      <td>0.214787</td>\n",
       "      <td>0.179449</td>\n",
       "      <td>0.201678</td>\n",
       "      <td>0.181546</td>\n",
       "      <td>0.201678</td>\n",
       "      <td>0.247459</td>\n",
       "      <td>0.241627</td>\n",
       "      <td>0.199391</td>\n",
       "      <td>0.202871</td>\n",
       "      <td>0.023765</td>\n",
       "      <td>5</td>\n",
       "    </tr>\n",
       "  </tbody>\n",
       "</table>\n",
       "</div>"
      ],
      "text/plain": [
       "   mean_fit_time  std_fit_time  mean_score_time  std_score_time  \\\n",
       "1       0.225986      0.034717         0.087953        0.009578   \n",
       "0       0.207150      0.024079         0.091729        0.011846   \n",
       "2       0.208765      0.014305         0.090780        0.010169   \n",
       "3       0.213645      0.021926         0.104768        0.014971   \n",
       "7       0.212022      0.028888         0.087214        0.016590   \n",
       "\n",
       "  param_kneighborsclassifier__n_neighbors  \\\n",
       "1                                       2   \n",
       "0                                       1   \n",
       "2                                       3   \n",
       "3                                       4   \n",
       "7                                       8   \n",
       "\n",
       "                                     params  split0_test_score  \\\n",
       "1  {'kneighborsclassifier__n_neighbors': 2}           0.175211   \n",
       "0  {'kneighborsclassifier__n_neighbors': 1}           0.186996   \n",
       "2  {'kneighborsclassifier__n_neighbors': 3}           0.193843   \n",
       "3  {'kneighborsclassifier__n_neighbors': 4}           0.209635   \n",
       "7  {'kneighborsclassifier__n_neighbors': 8}           0.181095   \n",
       "\n",
       "   split1_test_score  split2_test_score  split3_test_score  split4_test_score  \\\n",
       "1           0.341057           0.212654           0.176327           0.408491   \n",
       "0           0.320155           0.204559           0.203318           0.362981   \n",
       "2           0.348191           0.224597           0.190931           0.259899   \n",
       "3           0.209164           0.221189           0.236089           0.180549   \n",
       "7           0.180000           0.214787           0.179449           0.201678   \n",
       "\n",
       "   split5_test_score  split6_test_score  split7_test_score  split8_test_score  \\\n",
       "1           0.388302           0.247688           0.220726           0.309879   \n",
       "0           0.365306           0.249890           0.234973           0.320958   \n",
       "2           0.307551           0.269822           0.274560           0.295544   \n",
       "3           0.288825           0.232687           0.241531           0.239689   \n",
       "7           0.181546           0.201678           0.247459           0.241627   \n",
       "\n",
       "   split9_test_score  mean_test_score  std_test_score  rank_test_score  \n",
       "1           0.236446         0.271678        0.080552                1  \n",
       "0           0.255703         0.270484        0.063477                2  \n",
       "2           0.197306         0.256224        0.050793                3  \n",
       "3           0.197872         0.225723        0.028200                4  \n",
       "7           0.199391         0.202871        0.023765                5  "
      ]
     },
     "execution_count": 209,
     "metadata": {},
     "output_type": "execute_result"
    }
   ],
   "source": [
    "results = pd.DataFrame(gsknn.cv_results_)\n",
    "results.sort_values('mean_test_score', ascending=False).head()"
   ]
  },
  {
   "cell_type": "markdown",
   "id": "0b723bb6",
   "metadata": {},
   "source": [
    "# Support Vector Classification"
   ]
  },
  {
   "cell_type": "code",
   "execution_count": 227,
   "id": "75c9675d",
   "metadata": {},
   "outputs": [
    {
     "data": {
      "text/plain": [
       "{'C': 1.0,\n",
       " 'break_ties': False,\n",
       " 'cache_size': 200,\n",
       " 'class_weight': None,\n",
       " 'coef0': 0.0,\n",
       " 'decision_function_shape': 'ovr',\n",
       " 'degree': 3,\n",
       " 'gamma': 'scale',\n",
       " 'kernel': 'rbf',\n",
       " 'max_iter': -1,\n",
       " 'probability': False,\n",
       " 'random_state': None,\n",
       " 'shrinking': True,\n",
       " 'tol': 0.001,\n",
       " 'verbose': False}"
      ]
     },
     "execution_count": 227,
     "metadata": {},
     "output_type": "execute_result"
    }
   ],
   "source": [
    "from sklearn.svm import LinearSVC, SVC\n",
    "svm1 = SVC()\n",
    "vectsvm1 = TfidfVectorizer(min_df=2)\n",
    "pipesvm1 = make_pipeline(vectsvm1, scaler, svm1)\n",
    "svm1.get_params()"
   ]
  },
  {
   "cell_type": "code",
   "execution_count": 230,
   "id": "81cbcf7c",
   "metadata": {},
   "outputs": [
    {
     "name": "stdout",
     "output_type": "stream",
     "text": [
      "Fitting 10 folds for each of 12 candidates, totalling 120 fits\n"
     ]
    },
    {
     "data": {
      "text/plain": [
       "Pipeline(steps=[('tfidfvectorizer', TfidfVectorizer(min_df=2)),\n",
       "                ('robustscaler', RobustScaler(with_centering=False)),\n",
       "                ('svc', SVC(C=10, kernel='linear'))])"
      ]
     },
     "execution_count": 230,
     "metadata": {},
     "output_type": "execute_result"
    }
   ],
   "source": [
    "params = [{\n",
    "#     'tfidfvectorizer__binary': [True, False],\n",
    "#     'tfidfvectorizer__min_df': [1, 2],\n",
    "    'svc__C': [10, 100, 1000, 1100],\n",
    "    'svc__kernel': ['rbf', 'poly', 'linear'],\n",
    "    }]\n",
    "gs5 = GridSearchCV(pipesvm1, params, cv=10, scoring='f1_macro', n_jobs=-1, verbose=1, refit=True)\n",
    "#Fitting the data (cross validation of 10)\n",
    "gs5.fit(X_train, y_train)\n",
    "gs5.best_estimator_"
   ]
  },
  {
   "cell_type": "code",
   "execution_count": 231,
   "id": "e509fa07",
   "metadata": {},
   "outputs": [
    {
     "data": {
      "text/plain": [
       "(0.3612449764736064, {'svc__C': 10, 'svc__kernel': 'linear'})"
      ]
     },
     "execution_count": 231,
     "metadata": {},
     "output_type": "execute_result"
    }
   ],
   "source": [
    "gs5.best_score_, gs5.best_params_"
   ]
  },
  {
   "cell_type": "code",
   "execution_count": 232,
   "id": "e3f9d595",
   "metadata": {},
   "outputs": [
    {
     "data": {
      "text/html": [
       "<div>\n",
       "<style scoped>\n",
       "    .dataframe tbody tr th:only-of-type {\n",
       "        vertical-align: middle;\n",
       "    }\n",
       "\n",
       "    .dataframe tbody tr th {\n",
       "        vertical-align: top;\n",
       "    }\n",
       "\n",
       "    .dataframe thead th {\n",
       "        text-align: right;\n",
       "    }\n",
       "</style>\n",
       "<table border=\"1\" class=\"dataframe\">\n",
       "  <thead>\n",
       "    <tr style=\"text-align: right;\">\n",
       "      <th></th>\n",
       "      <th>param_svc__C</th>\n",
       "      <th>param_svc__kernel</th>\n",
       "      <th>mean_test_score</th>\n",
       "    </tr>\n",
       "  </thead>\n",
       "  <tbody>\n",
       "    <tr>\n",
       "      <th>2</th>\n",
       "      <td>10</td>\n",
       "      <td>linear</td>\n",
       "      <td>0.361245</td>\n",
       "    </tr>\n",
       "    <tr>\n",
       "      <th>5</th>\n",
       "      <td>100</td>\n",
       "      <td>linear</td>\n",
       "      <td>0.359929</td>\n",
       "    </tr>\n",
       "    <tr>\n",
       "      <th>8</th>\n",
       "      <td>1000</td>\n",
       "      <td>linear</td>\n",
       "      <td>0.359929</td>\n",
       "    </tr>\n",
       "    <tr>\n",
       "      <th>11</th>\n",
       "      <td>1100</td>\n",
       "      <td>linear</td>\n",
       "      <td>0.359929</td>\n",
       "    </tr>\n",
       "    <tr>\n",
       "      <th>10</th>\n",
       "      <td>1100</td>\n",
       "      <td>poly</td>\n",
       "      <td>0.297209</td>\n",
       "    </tr>\n",
       "  </tbody>\n",
       "</table>\n",
       "</div>"
      ],
      "text/plain": [
       "   param_svc__C param_svc__kernel  mean_test_score\n",
       "2            10            linear         0.361245\n",
       "5           100            linear         0.359929\n",
       "8          1000            linear         0.359929\n",
       "11         1100            linear         0.359929\n",
       "10         1100              poly         0.297209"
      ]
     },
     "execution_count": 232,
     "metadata": {},
     "output_type": "execute_result"
    }
   ],
   "source": [
    "results5 = pd.DataFrame(gs5.cv_results_)\n",
    "results5[['param_svc__C', 'param_svc__kernel', 'mean_test_score']].sort_values('mean_test_score', ascending=False).head()"
   ]
  },
  {
   "cell_type": "code",
   "execution_count": 241,
   "id": "420d8ca0",
   "metadata": {},
   "outputs": [
    {
     "name": "stdout",
     "output_type": "stream",
     "text": [
      "SVC: \n",
      "              precision    recall  f1-score   support\n",
      "\n",
      "         1.0       0.50      0.14      0.22         7\n",
      "         2.0       0.00      0.00      0.00         4\n",
      "         3.0       0.67      0.29      0.40         7\n",
      "         4.0       0.08      0.05      0.06        22\n",
      "         5.0       0.86      0.94      0.90       205\n",
      "\n",
      "    accuracy                           0.80       245\n",
      "   macro avg       0.42      0.28      0.32       245\n",
      "weighted avg       0.76      0.80      0.77       245\n",
      "\n"
     ]
    }
   ],
   "source": [
    "y_pred5 = gs5.predict(X_test)\n",
    "print(f'SVC: \\n{classification_report(y_test, y_pred5)}')"
   ]
  },
  {
   "cell_type": "code",
   "execution_count": 242,
   "id": "73fbe9ac",
   "metadata": {},
   "outputs": [
    {
     "data": {
      "image/png": "[encoded data removed]",
      "text/plain": [
       "<Figure size 432x288 with 2 Axes>"
      ]
     },
     "metadata": {
      "needs_background": "light"
     },
     "output_type": "display_data"
    }
   ],
   "source": [
    "ConfusionMatrixDisplay.from_predictions(y_test, y_pred5);"
   ]
  },
  {
   "cell_type": "markdown",
   "id": "cd22970f",
   "metadata": {},
   "source": [
    "# Linear Suport Vector Classification"
   ]
  },
  {
   "cell_type": "code",
   "execution_count": 243,
   "id": "6ce30631",
   "metadata": {},
   "outputs": [
    {
     "data": {
      "text/plain": [
       "{'C': 1.0,\n",
       " 'class_weight': None,\n",
       " 'dual': True,\n",
       " 'fit_intercept': True,\n",
       " 'intercept_scaling': 1,\n",
       " 'loss': 'squared_hinge',\n",
       " 'max_iter': 10000,\n",
       " 'multi_class': 'ovr',\n",
       " 'penalty': 'l2',\n",
       " 'random_state': None,\n",
       " 'tol': 0.0001,\n",
       " 'verbose': 0}"
      ]
     },
     "execution_count": 243,
     "metadata": {},
     "output_type": "execute_result"
    }
   ],
   "source": [
    "svm2 = LinearSVC(max_iter=10000)\n",
    "vectsvm2 = TfidfVectorizer(min_df=2)\n",
    "pipesvm2 = make_pipeline(vectsvm2, scaler, svm2)\n",
    "svm2.get_params()"
   ]
  },
  {
   "cell_type": "code",
   "execution_count": 244,
   "id": "1da10ba5",
   "metadata": {},
   "outputs": [
    {
     "name": "stdout",
     "output_type": "stream",
     "text": [
      "Fitting 10 folds for each of 8 candidates, totalling 80 fits\n"
     ]
    },
    {
     "name": "stderr",
     "output_type": "stream",
     "text": [
      "C:\\Users\\franc\\anaconda3\\lib\\site-packages\\sklearn\\svm\\_base.py:1206: ConvergenceWarning: Liblinear failed to converge, increase the number of iterations.\n",
      "  warnings.warn(\n"
     ]
    },
    {
     "data": {
      "text/plain": [
       "Pipeline(steps=[('tfidfvectorizer', TfidfVectorizer(min_df=2)),\n",
       "                ('robustscaler', RobustScaler(with_centering=False)),\n",
       "                ('linearsvc', LinearSVC(C=10, loss='hinge', max_iter=10000))])"
      ]
     },
     "execution_count": 244,
     "metadata": {},
     "output_type": "execute_result"
    }
   ],
   "source": [
    "params = [{\n",
    "    'linearsvc__C': [10, 100, 1000, 1100],\n",
    "    'linearsvc__loss': ['squared_hinge', 'hinge'],\n",
    "    }]\n",
    "\n",
    "gs6 = GridSearchCV(pipesvm2, params, cv=10, scoring='f1_macro', n_jobs=-1, verbose=1, refit=True)\n",
    "#Fitting the data (cross validation of 10)\n",
    "gs6.fit(X_train, y_train)\n",
    "gs6.best_estimator_"
   ]
  },
  {
   "cell_type": "code",
   "execution_count": null,
   "id": "e37ef56a",
   "metadata": {},
   "outputs": [],
   "source": [
    "#penalty l1 and loss hinge are incompatible"
   ]
  },
  {
   "cell_type": "code",
   "execution_count": 253,
   "id": "ee2b22c5",
   "metadata": {},
   "outputs": [
    {
     "data": {
      "text/plain": [
       "(0.36090445487235945, {'linearsvc__C': 10, 'linearsvc__loss': 'hinge'})"
      ]
     },
     "execution_count": 253,
     "metadata": {},
     "output_type": "execute_result"
    }
   ],
   "source": [
    "gs6.best_score_, gs6.best_params_"
   ]
  },
  {
   "cell_type": "code",
   "execution_count": 254,
   "id": "1a0f4365",
   "metadata": {},
   "outputs": [
    {
     "data": {
      "text/html": [
       "<div>\n",
       "<style scoped>\n",
       "    .dataframe tbody tr th:only-of-type {\n",
       "        vertical-align: middle;\n",
       "    }\n",
       "\n",
       "    .dataframe tbody tr th {\n",
       "        vertical-align: top;\n",
       "    }\n",
       "\n",
       "    .dataframe thead th {\n",
       "        text-align: right;\n",
       "    }\n",
       "</style>\n",
       "<table border=\"1\" class=\"dataframe\">\n",
       "  <thead>\n",
       "    <tr style=\"text-align: right;\">\n",
       "      <th></th>\n",
       "      <th>param_linearsvc__C</th>\n",
       "      <th>param_linearsvc__loss</th>\n",
       "      <th>mean_test_score</th>\n",
       "    </tr>\n",
       "  </thead>\n",
       "  <tbody>\n",
       "    <tr>\n",
       "      <th>1</th>\n",
       "      <td>10</td>\n",
       "      <td>hinge</td>\n",
       "      <td>0.360904</td>\n",
       "    </tr>\n",
       "    <tr>\n",
       "      <th>0</th>\n",
       "      <td>10</td>\n",
       "      <td>squared_hinge</td>\n",
       "      <td>0.354837</td>\n",
       "    </tr>\n",
       "    <tr>\n",
       "      <th>2</th>\n",
       "      <td>100</td>\n",
       "      <td>squared_hinge</td>\n",
       "      <td>0.343629</td>\n",
       "    </tr>\n",
       "    <tr>\n",
       "      <th>3</th>\n",
       "      <td>100</td>\n",
       "      <td>hinge</td>\n",
       "      <td>0.337191</td>\n",
       "    </tr>\n",
       "    <tr>\n",
       "      <th>6</th>\n",
       "      <td>1100</td>\n",
       "      <td>squared_hinge</td>\n",
       "      <td>0.329395</td>\n",
       "    </tr>\n",
       "  </tbody>\n",
       "</table>\n",
       "</div>"
      ],
      "text/plain": [
       "  param_linearsvc__C param_linearsvc__loss  mean_test_score\n",
       "1                 10                 hinge         0.360904\n",
       "0                 10         squared_hinge         0.354837\n",
       "2                100         squared_hinge         0.343629\n",
       "3                100                 hinge         0.337191\n",
       "6               1100         squared_hinge         0.329395"
      ]
     },
     "execution_count": 254,
     "metadata": {},
     "output_type": "execute_result"
    }
   ],
   "source": [
    "results6 = pd.DataFrame(gs6.cv_results_)\n",
    "results6[['param_linearsvc__C', 'param_linearsvc__loss', 'mean_test_score']].sort_values('mean_test_score', ascending=False).head()"
   ]
  },
  {
   "cell_type": "code",
   "execution_count": 255,
   "id": "7a67db13",
   "metadata": {},
   "outputs": [
    {
     "name": "stdout",
     "output_type": "stream",
     "text": [
      "SVCLinear: \n",
      "              precision    recall  f1-score   support\n",
      "\n",
      "         1.0       0.67      0.29      0.40         7\n",
      "         2.0       0.00      0.00      0.00         4\n",
      "         3.0       0.40      0.29      0.33         7\n",
      "         4.0       0.08      0.05      0.06        22\n",
      "         5.0       0.86      0.93      0.89       205\n",
      "\n",
      "    accuracy                           0.80       245\n",
      "   macro avg       0.40      0.31      0.34       245\n",
      "weighted avg       0.76      0.80      0.77       245\n",
      "\n"
     ]
    }
   ],
   "source": [
    "y_pred6 = gs6.predict(X_test)\n",
    "print(f'SVCLinear: \\n{classification_report(y_test, y_pred6)}')"
   ]
  },
  {
   "cell_type": "code",
   "execution_count": 249,
   "id": "f222f735",
   "metadata": {},
   "outputs": [
    {
     "data": {
      "image/png": "[encoded data removed]",
      "text/plain": [
       "<Figure size 432x288 with 2 Axes>"
      ]
     },
     "metadata": {
      "needs_background": "light"
     },
     "output_type": "display_data"
    }
   ],
   "source": [
    "ConfusionMatrixDisplay.from_predictions(y_test, y_pred6);"
   ]
  },
  {
   "cell_type": "markdown",
   "id": "04b510df",
   "metadata": {},
   "source": [
    "# Comparing all models"
   ]
  },
  {
   "cell_type": "code",
   "execution_count": 309,
   "id": "1a1db5cd",
   "metadata": {},
   "outputs": [
    {
     "data": {
      "text/plain": [
       "split0_test_score    0.261684\n",
       "split1_test_score    0.358417\n",
       "split2_test_score    0.351185\n",
       "split3_test_score     0.38885\n",
       "split4_test_score    0.491874\n",
       "split5_test_score    0.310916\n",
       "split6_test_score    0.200788\n",
       "split7_test_score    0.470835\n",
       "split8_test_score    0.386175\n",
       "split9_test_score     0.32765\n",
       "Name: 0, dtype: object"
      ]
     },
     "execution_count": 309,
     "metadata": {},
     "output_type": "execute_result"
    }
   ],
   "source": [
    "results6.sort_values('mean_test_score', ascending=False).iloc[1, 7:17]"
   ]
  },
  {
   "cell_type": "code",
   "execution_count": 331,
   "id": "f8e68f61",
   "metadata": {},
   "outputs": [
    {
     "data": {
      "text/plain": [
       "<AxesSubplot:>"
      ]
     },
     "execution_count": 331,
     "metadata": {},
     "output_type": "execute_result"
    },
    {
     "data": {
      "image/png": "[encoded data removed]",
      "text/plain": [
       "<Figure size 432x288 with 1 Axes>"
      ]
     },
     "metadata": {
      "needs_background": "light"
     },
     "output_type": "display_data"
    }
   ],
   "source": [
    "d = {} \n",
    "d[\"SGD/Count\"] = np.array(results1.sort_values('mean_test_score', ascending=False).iloc[1, 9:19]).astype(float)\n",
    "d[\"SGD/Tfidf\"] = np.array(results2.sort_values('mean_test_score', ascending=False).iloc[1, 9:19]).astype(float)\n",
    "d[\"Log/Count\"] = np.array(results3.sort_values('mean_test_score', ascending=False).iloc[1, 9:19]).astype(float)\n",
    "d[\"Log/Tfidf\"] = np.array(results4.sort_values('mean_test_score', ascending=False).iloc[1, 10:20]).astype(float)\n",
    "d[\"SVC\"]= np.array(results5.sort_values('mean_test_score', ascending=False).iloc[1, 7:17]).astype(float)\n",
    "d[\"LinearSVC\"]= np.array(results5.sort_values('mean_test_score', ascending=False).iloc[1, 7:17]).astype(float)\n",
    "allres = pd.DataFrame(d)\n",
    "allres.boxplot()"
   ]
  },
  {
   "cell_type": "code",
   "execution_count": 455,
   "id": "67fd6aa2",
   "metadata": {},
   "outputs": [
    {
     "data": {
      "image/png": "[encoded data removed]",
      "text/plain": [
       "<Figure size 432x288 with 1 Axes>"
      ]
     },
     "metadata": {
      "needs_background": "light"
     },
     "output_type": "display_data"
    }
   ],
   "source": [
    "from sklearn.model_selection import validation_curve\n",
    "param_range = ['linear', 'rbf', 'poly']\n",
    "train_scores, test_scores = validation_curve(estimator=pipesvm, X=X_train, y=y_train, \\\n",
    "                                             param_name= 'svc__kernel', param_range=param_range, cv=10)\n",
    "test_mean = np.mean(test_scores, axis=1)\n",
    "test_std = np.std(test_scores, axis=1)\n",
    "plt.plot(param_range, test_mean, color='green', marker='s')\n",
    "plt.fill_between(param_range, test_mean+test_std, test_mean-test_std, alpha=0.15, color='green')\n",
    "plt.grid()\n",
    "plt.show()"
   ]
  },
  {
   "cell_type": "code",
   "execution_count": null,
   "id": "c99871e0",
   "metadata": {},
   "outputs": [],
   "source": [
    "d = {'lr': lr_scores, 'dt': dt_scores, 'knn': knn_scores, 'svm1': svm1_scores, 'svm2': svm2_scores}\n",
    "results = pd.DataFrame(d)\n",
    "results.boxplot();"
   ]
  },
  {
   "cell_type": "code",
   "execution_count": null,
   "id": "03229dd1",
   "metadata": {},
   "outputs": [],
   "source": []
  },
  {
   "cell_type": "code",
   "execution_count": null,
   "id": "cf68d632",
   "metadata": {},
   "outputs": [],
   "source": []
  },
  {
   "cell_type": "code",
   "execution_count": null,
   "id": "ed1a9b03",
   "metadata": {},
   "outputs": [],
   "source": []
  }
 ],
 "metadata": {
  "kernelspec": {
   "display_name": "Python 3 (ipykernel)",
   "language": "python",
   "name": "python3"
  },
  "language_info": {
   "codemirror_mode": {
    "name": "ipython",
    "version": 3
   },
   "file_extension": ".py",
   "mimetype": "text/x-python",
   "name": "python",
   "nbconvert_exporter": "python",
   "pygments_lexer": "ipython3",
   "version": "3.9.12"
  }
 },
 "nbformat": 4,
 "nbformat_minor": 5
}
